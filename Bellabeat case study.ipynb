{
 "cells": [
  {
   "cell_type": "code",
   "execution_count": 1,
   "id": "1f61e74e-9275-4c52-8787-dc8031a4d161",
   "metadata": {},
   "outputs": [],
   "source": [
    "import pandas as pd\n",
    "import matplotlib.pyplot as plt\n",
    "import seaborn as sns"
   ]
  },
  {
   "cell_type": "code",
   "execution_count": 2,
   "id": "d02250b7-8981-4055-a2f5-c57b748d0a8b",
   "metadata": {},
   "outputs": [
    {
     "data": {
      "text/html": [
       "<div>\n",
       "<style scoped>\n",
       "    .dataframe tbody tr th:only-of-type {\n",
       "        vertical-align: middle;\n",
       "    }\n",
       "\n",
       "    .dataframe tbody tr th {\n",
       "        vertical-align: top;\n",
       "    }\n",
       "\n",
       "    .dataframe thead th {\n",
       "        text-align: right;\n",
       "    }\n",
       "</style>\n",
       "<table border=\"1\" class=\"dataframe\">\n",
       "  <thead>\n",
       "    <tr style=\"text-align: right;\">\n",
       "      <th></th>\n",
       "      <th>Id</th>\n",
       "      <th>ActivityDate</th>\n",
       "      <th>TotalSteps</th>\n",
       "      <th>TotalDistance</th>\n",
       "      <th>TrackerDistance</th>\n",
       "      <th>LoggedActivitiesDistance</th>\n",
       "      <th>VeryActiveDistance</th>\n",
       "      <th>ModeratelyActiveDistance</th>\n",
       "      <th>LightActiveDistance</th>\n",
       "      <th>SedentaryActiveDistance</th>\n",
       "      <th>VeryActiveMinutes</th>\n",
       "      <th>FairlyActiveMinutes</th>\n",
       "      <th>LightlyActiveMinutes</th>\n",
       "      <th>SedentaryMinutes</th>\n",
       "      <th>Calories</th>\n",
       "    </tr>\n",
       "  </thead>\n",
       "  <tbody>\n",
       "    <tr>\n",
       "      <th>0</th>\n",
       "      <td>1503960366</td>\n",
       "      <td>4/12/2016</td>\n",
       "      <td>13162</td>\n",
       "      <td>8.50</td>\n",
       "      <td>8.50</td>\n",
       "      <td>0.0</td>\n",
       "      <td>1.88</td>\n",
       "      <td>0.55</td>\n",
       "      <td>6.06</td>\n",
       "      <td>0.0</td>\n",
       "      <td>25</td>\n",
       "      <td>13</td>\n",
       "      <td>328</td>\n",
       "      <td>728</td>\n",
       "      <td>1985</td>\n",
       "    </tr>\n",
       "    <tr>\n",
       "      <th>1</th>\n",
       "      <td>1503960366</td>\n",
       "      <td>4/13/2016</td>\n",
       "      <td>10735</td>\n",
       "      <td>6.97</td>\n",
       "      <td>6.97</td>\n",
       "      <td>0.0</td>\n",
       "      <td>1.57</td>\n",
       "      <td>0.69</td>\n",
       "      <td>4.71</td>\n",
       "      <td>0.0</td>\n",
       "      <td>21</td>\n",
       "      <td>19</td>\n",
       "      <td>217</td>\n",
       "      <td>776</td>\n",
       "      <td>1797</td>\n",
       "    </tr>\n",
       "    <tr>\n",
       "      <th>2</th>\n",
       "      <td>1503960366</td>\n",
       "      <td>4/14/2016</td>\n",
       "      <td>10460</td>\n",
       "      <td>6.74</td>\n",
       "      <td>6.74</td>\n",
       "      <td>0.0</td>\n",
       "      <td>2.44</td>\n",
       "      <td>0.40</td>\n",
       "      <td>3.91</td>\n",
       "      <td>0.0</td>\n",
       "      <td>30</td>\n",
       "      <td>11</td>\n",
       "      <td>181</td>\n",
       "      <td>1218</td>\n",
       "      <td>1776</td>\n",
       "    </tr>\n",
       "    <tr>\n",
       "      <th>3</th>\n",
       "      <td>1503960366</td>\n",
       "      <td>4/15/2016</td>\n",
       "      <td>9762</td>\n",
       "      <td>6.28</td>\n",
       "      <td>6.28</td>\n",
       "      <td>0.0</td>\n",
       "      <td>2.14</td>\n",
       "      <td>1.26</td>\n",
       "      <td>2.83</td>\n",
       "      <td>0.0</td>\n",
       "      <td>29</td>\n",
       "      <td>34</td>\n",
       "      <td>209</td>\n",
       "      <td>726</td>\n",
       "      <td>1745</td>\n",
       "    </tr>\n",
       "    <tr>\n",
       "      <th>4</th>\n",
       "      <td>1503960366</td>\n",
       "      <td>4/16/2016</td>\n",
       "      <td>12669</td>\n",
       "      <td>8.16</td>\n",
       "      <td>8.16</td>\n",
       "      <td>0.0</td>\n",
       "      <td>2.71</td>\n",
       "      <td>0.41</td>\n",
       "      <td>5.04</td>\n",
       "      <td>0.0</td>\n",
       "      <td>36</td>\n",
       "      <td>10</td>\n",
       "      <td>221</td>\n",
       "      <td>773</td>\n",
       "      <td>1863</td>\n",
       "    </tr>\n",
       "  </tbody>\n",
       "</table>\n",
       "</div>"
      ],
      "text/plain": [
       "           Id ActivityDate  TotalSteps  TotalDistance  TrackerDistance  \\\n",
       "0  1503960366    4/12/2016       13162           8.50             8.50   \n",
       "1  1503960366    4/13/2016       10735           6.97             6.97   \n",
       "2  1503960366    4/14/2016       10460           6.74             6.74   \n",
       "3  1503960366    4/15/2016        9762           6.28             6.28   \n",
       "4  1503960366    4/16/2016       12669           8.16             8.16   \n",
       "\n",
       "   LoggedActivitiesDistance  VeryActiveDistance  ModeratelyActiveDistance  \\\n",
       "0                       0.0                1.88                      0.55   \n",
       "1                       0.0                1.57                      0.69   \n",
       "2                       0.0                2.44                      0.40   \n",
       "3                       0.0                2.14                      1.26   \n",
       "4                       0.0                2.71                      0.41   \n",
       "\n",
       "   LightActiveDistance  SedentaryActiveDistance  VeryActiveMinutes  \\\n",
       "0                 6.06                      0.0                 25   \n",
       "1                 4.71                      0.0                 21   \n",
       "2                 3.91                      0.0                 30   \n",
       "3                 2.83                      0.0                 29   \n",
       "4                 5.04                      0.0                 36   \n",
       "\n",
       "   FairlyActiveMinutes  LightlyActiveMinutes  SedentaryMinutes  Calories  \n",
       "0                   13                   328               728      1985  \n",
       "1                   19                   217               776      1797  \n",
       "2                   11                   181              1218      1776  \n",
       "3                   34                   209               726      1745  \n",
       "4                   10                   221               773      1863  "
      ]
     },
     "execution_count": 2,
     "metadata": {},
     "output_type": "execute_result"
    }
   ],
   "source": [
    "daily_activity=pd.read_csv(r\"C:\\Users\\anavi\\Downloads\\dailyActivity_merged.csv\")\n",
    "daily_activity.head()"
   ]
  },
  {
   "cell_type": "code",
   "execution_count": 3,
   "id": "42ea655b-0f04-43a9-bb5f-247eb66b6097",
   "metadata": {},
   "outputs": [
    {
     "data": {
      "text/html": [
       "<div>\n",
       "<style scoped>\n",
       "    .dataframe tbody tr th:only-of-type {\n",
       "        vertical-align: middle;\n",
       "    }\n",
       "\n",
       "    .dataframe tbody tr th {\n",
       "        vertical-align: top;\n",
       "    }\n",
       "\n",
       "    .dataframe thead th {\n",
       "        text-align: right;\n",
       "    }\n",
       "</style>\n",
       "<table border=\"1\" class=\"dataframe\">\n",
       "  <thead>\n",
       "    <tr style=\"text-align: right;\">\n",
       "      <th></th>\n",
       "      <th>Id</th>\n",
       "      <th>SleepDay</th>\n",
       "      <th>TotalSleepRecords</th>\n",
       "      <th>TotalMinutesAsleep</th>\n",
       "      <th>TotalTimeInBed</th>\n",
       "    </tr>\n",
       "  </thead>\n",
       "  <tbody>\n",
       "    <tr>\n",
       "      <th>0</th>\n",
       "      <td>1503960366</td>\n",
       "      <td>4/12/2016 12:00:00 AM</td>\n",
       "      <td>1</td>\n",
       "      <td>327</td>\n",
       "      <td>346</td>\n",
       "    </tr>\n",
       "    <tr>\n",
       "      <th>1</th>\n",
       "      <td>1503960366</td>\n",
       "      <td>4/13/2016 12:00:00 AM</td>\n",
       "      <td>2</td>\n",
       "      <td>384</td>\n",
       "      <td>407</td>\n",
       "    </tr>\n",
       "    <tr>\n",
       "      <th>2</th>\n",
       "      <td>1503960366</td>\n",
       "      <td>4/15/2016 12:00:00 AM</td>\n",
       "      <td>1</td>\n",
       "      <td>412</td>\n",
       "      <td>442</td>\n",
       "    </tr>\n",
       "    <tr>\n",
       "      <th>3</th>\n",
       "      <td>1503960366</td>\n",
       "      <td>4/16/2016 12:00:00 AM</td>\n",
       "      <td>2</td>\n",
       "      <td>340</td>\n",
       "      <td>367</td>\n",
       "    </tr>\n",
       "    <tr>\n",
       "      <th>4</th>\n",
       "      <td>1503960366</td>\n",
       "      <td>4/17/2016 12:00:00 AM</td>\n",
       "      <td>1</td>\n",
       "      <td>700</td>\n",
       "      <td>712</td>\n",
       "    </tr>\n",
       "  </tbody>\n",
       "</table>\n",
       "</div>"
      ],
      "text/plain": [
       "           Id               SleepDay  TotalSleepRecords  TotalMinutesAsleep  \\\n",
       "0  1503960366  4/12/2016 12:00:00 AM                  1                 327   \n",
       "1  1503960366  4/13/2016 12:00:00 AM                  2                 384   \n",
       "2  1503960366  4/15/2016 12:00:00 AM                  1                 412   \n",
       "3  1503960366  4/16/2016 12:00:00 AM                  2                 340   \n",
       "4  1503960366  4/17/2016 12:00:00 AM                  1                 700   \n",
       "\n",
       "   TotalTimeInBed  \n",
       "0             346  \n",
       "1             407  \n",
       "2             442  \n",
       "3             367  \n",
       "4             712  "
      ]
     },
     "execution_count": 3,
     "metadata": {},
     "output_type": "execute_result"
    }
   ],
   "source": [
    "sleep=pd.read_csv(r\"C:\\Users\\anavi\\Downloads\\sleepDay_merged.csv\")\n",
    "sleep.head()"
   ]
  },
  {
   "cell_type": "code",
   "execution_count": 4,
   "id": "7ebcbf08-cec2-4bb9-928b-15758d4165c0",
   "metadata": {},
   "outputs": [
    {
     "data": {
      "text/html": [
       "<div>\n",
       "<style scoped>\n",
       "    .dataframe tbody tr th:only-of-type {\n",
       "        vertical-align: middle;\n",
       "    }\n",
       "\n",
       "    .dataframe tbody tr th {\n",
       "        vertical-align: top;\n",
       "    }\n",
       "\n",
       "    .dataframe thead th {\n",
       "        text-align: right;\n",
       "    }\n",
       "</style>\n",
       "<table border=\"1\" class=\"dataframe\">\n",
       "  <thead>\n",
       "    <tr style=\"text-align: right;\">\n",
       "      <th></th>\n",
       "      <th>Id</th>\n",
       "      <th>Date</th>\n",
       "      <th>WeightKg</th>\n",
       "      <th>WeightPounds</th>\n",
       "      <th>Fat</th>\n",
       "      <th>BMI</th>\n",
       "      <th>IsManualReport</th>\n",
       "      <th>LogId</th>\n",
       "    </tr>\n",
       "  </thead>\n",
       "  <tbody>\n",
       "    <tr>\n",
       "      <th>0</th>\n",
       "      <td>1503960366</td>\n",
       "      <td>5/2/2016 11:59:59 PM</td>\n",
       "      <td>52.599998</td>\n",
       "      <td>115.963147</td>\n",
       "      <td>22.0</td>\n",
       "      <td>22.650000</td>\n",
       "      <td>True</td>\n",
       "      <td>1462233599000</td>\n",
       "    </tr>\n",
       "    <tr>\n",
       "      <th>1</th>\n",
       "      <td>1503960366</td>\n",
       "      <td>5/3/2016 11:59:59 PM</td>\n",
       "      <td>52.599998</td>\n",
       "      <td>115.963147</td>\n",
       "      <td>NaN</td>\n",
       "      <td>22.650000</td>\n",
       "      <td>True</td>\n",
       "      <td>1462319999000</td>\n",
       "    </tr>\n",
       "    <tr>\n",
       "      <th>2</th>\n",
       "      <td>1927972279</td>\n",
       "      <td>4/13/2016 1:08:52 AM</td>\n",
       "      <td>133.500000</td>\n",
       "      <td>294.317120</td>\n",
       "      <td>NaN</td>\n",
       "      <td>47.540001</td>\n",
       "      <td>False</td>\n",
       "      <td>1460509732000</td>\n",
       "    </tr>\n",
       "    <tr>\n",
       "      <th>3</th>\n",
       "      <td>2873212765</td>\n",
       "      <td>4/21/2016 11:59:59 PM</td>\n",
       "      <td>56.700001</td>\n",
       "      <td>125.002104</td>\n",
       "      <td>NaN</td>\n",
       "      <td>21.450001</td>\n",
       "      <td>True</td>\n",
       "      <td>1461283199000</td>\n",
       "    </tr>\n",
       "    <tr>\n",
       "      <th>4</th>\n",
       "      <td>2873212765</td>\n",
       "      <td>5/12/2016 11:59:59 PM</td>\n",
       "      <td>57.299999</td>\n",
       "      <td>126.324875</td>\n",
       "      <td>NaN</td>\n",
       "      <td>21.690001</td>\n",
       "      <td>True</td>\n",
       "      <td>1463097599000</td>\n",
       "    </tr>\n",
       "  </tbody>\n",
       "</table>\n",
       "</div>"
      ],
      "text/plain": [
       "           Id                   Date    WeightKg  WeightPounds   Fat  \\\n",
       "0  1503960366   5/2/2016 11:59:59 PM   52.599998    115.963147  22.0   \n",
       "1  1503960366   5/3/2016 11:59:59 PM   52.599998    115.963147   NaN   \n",
       "2  1927972279   4/13/2016 1:08:52 AM  133.500000    294.317120   NaN   \n",
       "3  2873212765  4/21/2016 11:59:59 PM   56.700001    125.002104   NaN   \n",
       "4  2873212765  5/12/2016 11:59:59 PM   57.299999    126.324875   NaN   \n",
       "\n",
       "         BMI  IsManualReport          LogId  \n",
       "0  22.650000            True  1462233599000  \n",
       "1  22.650000            True  1462319999000  \n",
       "2  47.540001           False  1460509732000  \n",
       "3  21.450001            True  1461283199000  \n",
       "4  21.690001            True  1463097599000  "
      ]
     },
     "execution_count": 4,
     "metadata": {},
     "output_type": "execute_result"
    }
   ],
   "source": [
    "weight=pd.read_csv(r\"C:\\Users\\anavi\\Downloads\\weightLogInfo_merged.csv\")\n",
    "weight.head()"
   ]
  },
  {
   "cell_type": "markdown",
   "id": "cdfbd22a-c68a-4d97-a7bc-54b46264f7ca",
   "metadata": {},
   "source": [
    "Cleaning dailyActivity data"
   ]
  },
  {
   "cell_type": "code",
   "execution_count": 5,
   "id": "4f2cf413-3a64-456e-acbc-1b7f35ed600c",
   "metadata": {},
   "outputs": [
    {
     "name": "stdout",
     "output_type": "stream",
     "text": [
      "<class 'pandas.core.frame.DataFrame'>\n",
      "RangeIndex: 940 entries, 0 to 939\n",
      "Data columns (total 15 columns):\n",
      " #   Column                    Non-Null Count  Dtype  \n",
      "---  ------                    --------------  -----  \n",
      " 0   Id                        940 non-null    int64  \n",
      " 1   ActivityDate              940 non-null    object \n",
      " 2   TotalSteps                940 non-null    int64  \n",
      " 3   TotalDistance             940 non-null    float64\n",
      " 4   TrackerDistance           940 non-null    float64\n",
      " 5   LoggedActivitiesDistance  940 non-null    float64\n",
      " 6   VeryActiveDistance        940 non-null    float64\n",
      " 7   ModeratelyActiveDistance  940 non-null    float64\n",
      " 8   LightActiveDistance       940 non-null    float64\n",
      " 9   SedentaryActiveDistance   940 non-null    float64\n",
      " 10  VeryActiveMinutes         940 non-null    int64  \n",
      " 11  FairlyActiveMinutes       940 non-null    int64  \n",
      " 12  LightlyActiveMinutes      940 non-null    int64  \n",
      " 13  SedentaryMinutes          940 non-null    int64  \n",
      " 14  Calories                  940 non-null    int64  \n",
      "dtypes: float64(7), int64(7), object(1)\n",
      "memory usage: 110.3+ KB\n"
     ]
    }
   ],
   "source": [
    "daily_activity.info()"
   ]
  },
  {
   "cell_type": "code",
   "execution_count": 6,
   "id": "a17b5f43-fe18-42be-8da7-f6d7ccba4bb6",
   "metadata": {},
   "outputs": [
    {
     "data": {
      "text/plain": [
       "Id                          0\n",
       "ActivityDate                0\n",
       "TotalSteps                  0\n",
       "TotalDistance               0\n",
       "TrackerDistance             0\n",
       "LoggedActivitiesDistance    0\n",
       "VeryActiveDistance          0\n",
       "ModeratelyActiveDistance    0\n",
       "LightActiveDistance         0\n",
       "SedentaryActiveDistance     0\n",
       "VeryActiveMinutes           0\n",
       "FairlyActiveMinutes         0\n",
       "LightlyActiveMinutes        0\n",
       "SedentaryMinutes            0\n",
       "Calories                    0\n",
       "dtype: int64"
      ]
     },
     "execution_count": 6,
     "metadata": {},
     "output_type": "execute_result"
    }
   ],
   "source": [
    "daily_activity.isnull().sum()"
   ]
  },
  {
   "cell_type": "code",
   "execution_count": 7,
   "id": "01293229-8ee2-445d-8a36-c6a60b214b03",
   "metadata": {},
   "outputs": [
    {
     "data": {
      "text/plain": [
       "0"
      ]
     },
     "execution_count": 7,
     "metadata": {},
     "output_type": "execute_result"
    }
   ],
   "source": [
    "daily_activity.duplicated().sum()"
   ]
  },
  {
   "cell_type": "code",
   "execution_count": 8,
   "id": "54ce187b-edf5-4aa9-bb6a-56c29d848177",
   "metadata": {},
   "outputs": [],
   "source": [
    "daily_activity.drop_duplicates(inplace=True)"
   ]
  },
  {
   "cell_type": "code",
   "execution_count": 9,
   "id": "e6bfe6de-22f0-46a0-b299-c70fa57de96c",
   "metadata": {},
   "outputs": [
    {
     "data": {
      "text/html": [
       "<div>\n",
       "<style scoped>\n",
       "    .dataframe tbody tr th:only-of-type {\n",
       "        vertical-align: middle;\n",
       "    }\n",
       "\n",
       "    .dataframe tbody tr th {\n",
       "        vertical-align: top;\n",
       "    }\n",
       "\n",
       "    .dataframe thead th {\n",
       "        text-align: right;\n",
       "    }\n",
       "</style>\n",
       "<table border=\"1\" class=\"dataframe\">\n",
       "  <thead>\n",
       "    <tr style=\"text-align: right;\">\n",
       "      <th></th>\n",
       "      <th>Id</th>\n",
       "      <th>ActivityDate</th>\n",
       "      <th>TotalSteps</th>\n",
       "      <th>TotalDistance</th>\n",
       "      <th>TrackerDistance</th>\n",
       "      <th>LoggedActivitiesDistance</th>\n",
       "      <th>VeryActiveDistance</th>\n",
       "      <th>ModeratelyActiveDistance</th>\n",
       "      <th>LightActiveDistance</th>\n",
       "      <th>SedentaryActiveDistance</th>\n",
       "      <th>VeryActiveMinutes</th>\n",
       "      <th>FairlyActiveMinutes</th>\n",
       "      <th>LightlyActiveMinutes</th>\n",
       "      <th>SedentaryMinutes</th>\n",
       "      <th>Calories</th>\n",
       "    </tr>\n",
       "  </thead>\n",
       "  <tbody>\n",
       "    <tr>\n",
       "      <th>0</th>\n",
       "      <td>1503960366</td>\n",
       "      <td>2016-04-12</td>\n",
       "      <td>13162</td>\n",
       "      <td>8.50</td>\n",
       "      <td>8.50</td>\n",
       "      <td>0.0</td>\n",
       "      <td>1.88</td>\n",
       "      <td>0.55</td>\n",
       "      <td>6.06</td>\n",
       "      <td>0.0</td>\n",
       "      <td>25</td>\n",
       "      <td>13</td>\n",
       "      <td>328</td>\n",
       "      <td>728</td>\n",
       "      <td>1985</td>\n",
       "    </tr>\n",
       "    <tr>\n",
       "      <th>1</th>\n",
       "      <td>1503960366</td>\n",
       "      <td>2016-04-13</td>\n",
       "      <td>10735</td>\n",
       "      <td>6.97</td>\n",
       "      <td>6.97</td>\n",
       "      <td>0.0</td>\n",
       "      <td>1.57</td>\n",
       "      <td>0.69</td>\n",
       "      <td>4.71</td>\n",
       "      <td>0.0</td>\n",
       "      <td>21</td>\n",
       "      <td>19</td>\n",
       "      <td>217</td>\n",
       "      <td>776</td>\n",
       "      <td>1797</td>\n",
       "    </tr>\n",
       "    <tr>\n",
       "      <th>2</th>\n",
       "      <td>1503960366</td>\n",
       "      <td>2016-04-14</td>\n",
       "      <td>10460</td>\n",
       "      <td>6.74</td>\n",
       "      <td>6.74</td>\n",
       "      <td>0.0</td>\n",
       "      <td>2.44</td>\n",
       "      <td>0.40</td>\n",
       "      <td>3.91</td>\n",
       "      <td>0.0</td>\n",
       "      <td>30</td>\n",
       "      <td>11</td>\n",
       "      <td>181</td>\n",
       "      <td>1218</td>\n",
       "      <td>1776</td>\n",
       "    </tr>\n",
       "    <tr>\n",
       "      <th>3</th>\n",
       "      <td>1503960366</td>\n",
       "      <td>2016-04-15</td>\n",
       "      <td>9762</td>\n",
       "      <td>6.28</td>\n",
       "      <td>6.28</td>\n",
       "      <td>0.0</td>\n",
       "      <td>2.14</td>\n",
       "      <td>1.26</td>\n",
       "      <td>2.83</td>\n",
       "      <td>0.0</td>\n",
       "      <td>29</td>\n",
       "      <td>34</td>\n",
       "      <td>209</td>\n",
       "      <td>726</td>\n",
       "      <td>1745</td>\n",
       "    </tr>\n",
       "    <tr>\n",
       "      <th>4</th>\n",
       "      <td>1503960366</td>\n",
       "      <td>2016-04-16</td>\n",
       "      <td>12669</td>\n",
       "      <td>8.16</td>\n",
       "      <td>8.16</td>\n",
       "      <td>0.0</td>\n",
       "      <td>2.71</td>\n",
       "      <td>0.41</td>\n",
       "      <td>5.04</td>\n",
       "      <td>0.0</td>\n",
       "      <td>36</td>\n",
       "      <td>10</td>\n",
       "      <td>221</td>\n",
       "      <td>773</td>\n",
       "      <td>1863</td>\n",
       "    </tr>\n",
       "  </tbody>\n",
       "</table>\n",
       "</div>"
      ],
      "text/plain": [
       "           Id ActivityDate  TotalSteps  TotalDistance  TrackerDistance  \\\n",
       "0  1503960366   2016-04-12       13162           8.50             8.50   \n",
       "1  1503960366   2016-04-13       10735           6.97             6.97   \n",
       "2  1503960366   2016-04-14       10460           6.74             6.74   \n",
       "3  1503960366   2016-04-15        9762           6.28             6.28   \n",
       "4  1503960366   2016-04-16       12669           8.16             8.16   \n",
       "\n",
       "   LoggedActivitiesDistance  VeryActiveDistance  ModeratelyActiveDistance  \\\n",
       "0                       0.0                1.88                      0.55   \n",
       "1                       0.0                1.57                      0.69   \n",
       "2                       0.0                2.44                      0.40   \n",
       "3                       0.0                2.14                      1.26   \n",
       "4                       0.0                2.71                      0.41   \n",
       "\n",
       "   LightActiveDistance  SedentaryActiveDistance  VeryActiveMinutes  \\\n",
       "0                 6.06                      0.0                 25   \n",
       "1                 4.71                      0.0                 21   \n",
       "2                 3.91                      0.0                 30   \n",
       "3                 2.83                      0.0                 29   \n",
       "4                 5.04                      0.0                 36   \n",
       "\n",
       "   FairlyActiveMinutes  LightlyActiveMinutes  SedentaryMinutes  Calories  \n",
       "0                   13                   328               728      1985  \n",
       "1                   19                   217               776      1797  \n",
       "2                   11                   181              1218      1776  \n",
       "3                   34                   209               726      1745  \n",
       "4                   10                   221               773      1863  "
      ]
     },
     "execution_count": 9,
     "metadata": {},
     "output_type": "execute_result"
    }
   ],
   "source": [
    "daily_activity['ActivityDate']=pd.to_datetime(daily_activity['ActivityDate'])\n",
    "daily_activity.head()"
   ]
  },
  {
   "cell_type": "markdown",
   "id": "833ebefd-d7ab-42d4-8bee-505f2ca3eeef",
   "metadata": {},
   "source": [
    "Cleaning sleep data"
   ]
  },
  {
   "cell_type": "code",
   "execution_count": 10,
   "id": "30b87897-d293-4ba9-bcee-cbe6bcc6c533",
   "metadata": {},
   "outputs": [
    {
     "name": "stdout",
     "output_type": "stream",
     "text": [
      "<class 'pandas.core.frame.DataFrame'>\n",
      "RangeIndex: 413 entries, 0 to 412\n",
      "Data columns (total 5 columns):\n",
      " #   Column              Non-Null Count  Dtype \n",
      "---  ------              --------------  ----- \n",
      " 0   Id                  413 non-null    int64 \n",
      " 1   SleepDay            413 non-null    object\n",
      " 2   TotalSleepRecords   413 non-null    int64 \n",
      " 3   TotalMinutesAsleep  413 non-null    int64 \n",
      " 4   TotalTimeInBed      413 non-null    int64 \n",
      "dtypes: int64(4), object(1)\n",
      "memory usage: 16.3+ KB\n"
     ]
    }
   ],
   "source": [
    "sleep.info()"
   ]
  },
  {
   "cell_type": "code",
   "execution_count": 11,
   "id": "f9a436c5-f59d-44f3-b586-8d9ff63fc134",
   "metadata": {},
   "outputs": [
    {
     "data": {
      "text/plain": [
       "Id                    0\n",
       "SleepDay              0\n",
       "TotalSleepRecords     0\n",
       "TotalMinutesAsleep    0\n",
       "TotalTimeInBed        0\n",
       "dtype: int64"
      ]
     },
     "execution_count": 11,
     "metadata": {},
     "output_type": "execute_result"
    }
   ],
   "source": [
    "sleep.isnull().sum()"
   ]
  },
  {
   "cell_type": "code",
   "execution_count": 12,
   "id": "9ce0c120-2b32-44ee-a690-7c8bd3dc93be",
   "metadata": {},
   "outputs": [
    {
     "data": {
      "text/plain": [
       "3"
      ]
     },
     "execution_count": 12,
     "metadata": {},
     "output_type": "execute_result"
    }
   ],
   "source": [
    "sleep.duplicated().sum()"
   ]
  },
  {
   "cell_type": "code",
   "execution_count": 13,
   "id": "1e3d4ebe-bca8-48f8-b17f-d5e5438b2793",
   "metadata": {},
   "outputs": [
    {
     "data": {
      "text/plain": [
       "0"
      ]
     },
     "execution_count": 13,
     "metadata": {},
     "output_type": "execute_result"
    }
   ],
   "source": [
    "sleep.drop_duplicates(inplace=True)\n",
    "sleep.duplicated().sum()"
   ]
  },
  {
   "cell_type": "code",
   "execution_count": 14,
   "id": "4e701030-ac58-4e33-a056-6c1bebf5b4b7",
   "metadata": {},
   "outputs": [
    {
     "name": "stderr",
     "output_type": "stream",
     "text": [
      "C:\\Users\\anavi\\AppData\\Local\\Temp\\ipykernel_18676\\729567795.py:1: UserWarning: Could not infer format, so each element will be parsed individually, falling back to `dateutil`. To ensure parsing is consistent and as-expected, please specify a format.\n",
      "  sleep['SleepDay']=pd.to_datetime(sleep['SleepDay'])\n"
     ]
    },
    {
     "data": {
      "text/html": [
       "<div>\n",
       "<style scoped>\n",
       "    .dataframe tbody tr th:only-of-type {\n",
       "        vertical-align: middle;\n",
       "    }\n",
       "\n",
       "    .dataframe tbody tr th {\n",
       "        vertical-align: top;\n",
       "    }\n",
       "\n",
       "    .dataframe thead th {\n",
       "        text-align: right;\n",
       "    }\n",
       "</style>\n",
       "<table border=\"1\" class=\"dataframe\">\n",
       "  <thead>\n",
       "    <tr style=\"text-align: right;\">\n",
       "      <th></th>\n",
       "      <th>Id</th>\n",
       "      <th>SleepDay</th>\n",
       "      <th>TotalSleepRecords</th>\n",
       "      <th>TotalMinutesAsleep</th>\n",
       "      <th>TotalTimeInBed</th>\n",
       "    </tr>\n",
       "  </thead>\n",
       "  <tbody>\n",
       "    <tr>\n",
       "      <th>0</th>\n",
       "      <td>1503960366</td>\n",
       "      <td>2016-04-12</td>\n",
       "      <td>1</td>\n",
       "      <td>327</td>\n",
       "      <td>346</td>\n",
       "    </tr>\n",
       "    <tr>\n",
       "      <th>1</th>\n",
       "      <td>1503960366</td>\n",
       "      <td>2016-04-13</td>\n",
       "      <td>2</td>\n",
       "      <td>384</td>\n",
       "      <td>407</td>\n",
       "    </tr>\n",
       "    <tr>\n",
       "      <th>2</th>\n",
       "      <td>1503960366</td>\n",
       "      <td>2016-04-15</td>\n",
       "      <td>1</td>\n",
       "      <td>412</td>\n",
       "      <td>442</td>\n",
       "    </tr>\n",
       "    <tr>\n",
       "      <th>3</th>\n",
       "      <td>1503960366</td>\n",
       "      <td>2016-04-16</td>\n",
       "      <td>2</td>\n",
       "      <td>340</td>\n",
       "      <td>367</td>\n",
       "    </tr>\n",
       "    <tr>\n",
       "      <th>4</th>\n",
       "      <td>1503960366</td>\n",
       "      <td>2016-04-17</td>\n",
       "      <td>1</td>\n",
       "      <td>700</td>\n",
       "      <td>712</td>\n",
       "    </tr>\n",
       "  </tbody>\n",
       "</table>\n",
       "</div>"
      ],
      "text/plain": [
       "           Id   SleepDay  TotalSleepRecords  TotalMinutesAsleep  \\\n",
       "0  1503960366 2016-04-12                  1                 327   \n",
       "1  1503960366 2016-04-13                  2                 384   \n",
       "2  1503960366 2016-04-15                  1                 412   \n",
       "3  1503960366 2016-04-16                  2                 340   \n",
       "4  1503960366 2016-04-17                  1                 700   \n",
       "\n",
       "   TotalTimeInBed  \n",
       "0             346  \n",
       "1             407  \n",
       "2             442  \n",
       "3             367  \n",
       "4             712  "
      ]
     },
     "execution_count": 14,
     "metadata": {},
     "output_type": "execute_result"
    }
   ],
   "source": [
    "sleep['SleepDay']=pd.to_datetime(sleep['SleepDay'])\n",
    "sleep.head()"
   ]
  },
  {
   "cell_type": "markdown",
   "id": "cdf8e32d-3e72-43b8-a69d-5fee89d4e2a9",
   "metadata": {},
   "source": [
    "Cleaning weightlogInfo"
   ]
  },
  {
   "cell_type": "code",
   "execution_count": 15,
   "id": "14dc56e9-a7d8-4467-a24c-ac819c591f93",
   "metadata": {},
   "outputs": [
    {
     "name": "stdout",
     "output_type": "stream",
     "text": [
      "<class 'pandas.core.frame.DataFrame'>\n",
      "RangeIndex: 67 entries, 0 to 66\n",
      "Data columns (total 8 columns):\n",
      " #   Column          Non-Null Count  Dtype  \n",
      "---  ------          --------------  -----  \n",
      " 0   Id              67 non-null     int64  \n",
      " 1   Date            67 non-null     object \n",
      " 2   WeightKg        67 non-null     float64\n",
      " 3   WeightPounds    67 non-null     float64\n",
      " 4   Fat             2 non-null      float64\n",
      " 5   BMI             67 non-null     float64\n",
      " 6   IsManualReport  67 non-null     bool   \n",
      " 7   LogId           67 non-null     int64  \n",
      "dtypes: bool(1), float64(4), int64(2), object(1)\n",
      "memory usage: 3.9+ KB\n"
     ]
    }
   ],
   "source": [
    "weight.info()"
   ]
  },
  {
   "cell_type": "code",
   "execution_count": 16,
   "id": "6a7278a4-c048-4c42-b899-af25a2330a73",
   "metadata": {},
   "outputs": [
    {
     "data": {
      "text/plain": [
       "Id                 0\n",
       "Date               0\n",
       "WeightKg           0\n",
       "WeightPounds       0\n",
       "Fat               65\n",
       "BMI                0\n",
       "IsManualReport     0\n",
       "LogId              0\n",
       "dtype: int64"
      ]
     },
     "execution_count": 16,
     "metadata": {},
     "output_type": "execute_result"
    }
   ],
   "source": [
    "weight.isnull().sum()"
   ]
  },
  {
   "cell_type": "code",
   "execution_count": 17,
   "id": "a1c9a9c2-6140-468a-ae65-dd356bb7f18f",
   "metadata": {},
   "outputs": [],
   "source": [
    "weight.drop(columns=['Fat'],inplace=True)"
   ]
  },
  {
   "cell_type": "code",
   "execution_count": 18,
   "id": "1b272617-e363-4707-882c-0026056c5d7e",
   "metadata": {},
   "outputs": [
    {
     "data": {
      "text/plain": [
       "0"
      ]
     },
     "execution_count": 18,
     "metadata": {},
     "output_type": "execute_result"
    }
   ],
   "source": [
    "weight.duplicated().sum()"
   ]
  },
  {
   "cell_type": "code",
   "execution_count": 19,
   "id": "f65fd801-8789-4df7-9627-b7d665d40bb3",
   "metadata": {},
   "outputs": [
    {
     "name": "stderr",
     "output_type": "stream",
     "text": [
      "C:\\Users\\anavi\\AppData\\Local\\Temp\\ipykernel_18676\\3288914967.py:1: UserWarning: Could not infer format, so each element will be parsed individually, falling back to `dateutil`. To ensure parsing is consistent and as-expected, please specify a format.\n",
      "  weight['Date'] = pd.to_datetime(weight['Date'], errors='coerce')\n"
     ]
    },
    {
     "data": {
      "text/html": [
       "<div>\n",
       "<style scoped>\n",
       "    .dataframe tbody tr th:only-of-type {\n",
       "        vertical-align: middle;\n",
       "    }\n",
       "\n",
       "    .dataframe tbody tr th {\n",
       "        vertical-align: top;\n",
       "    }\n",
       "\n",
       "    .dataframe thead th {\n",
       "        text-align: right;\n",
       "    }\n",
       "</style>\n",
       "<table border=\"1\" class=\"dataframe\">\n",
       "  <thead>\n",
       "    <tr style=\"text-align: right;\">\n",
       "      <th></th>\n",
       "      <th>Id</th>\n",
       "      <th>Date</th>\n",
       "      <th>WeightKg</th>\n",
       "      <th>WeightPounds</th>\n",
       "      <th>BMI</th>\n",
       "      <th>IsManualReport</th>\n",
       "      <th>LogId</th>\n",
       "    </tr>\n",
       "  </thead>\n",
       "  <tbody>\n",
       "    <tr>\n",
       "      <th>0</th>\n",
       "      <td>1503960366</td>\n",
       "      <td>2016-05-02</td>\n",
       "      <td>52.599998</td>\n",
       "      <td>115.963147</td>\n",
       "      <td>22.650000</td>\n",
       "      <td>True</td>\n",
       "      <td>1462233599000</td>\n",
       "    </tr>\n",
       "    <tr>\n",
       "      <th>1</th>\n",
       "      <td>1503960366</td>\n",
       "      <td>2016-05-03</td>\n",
       "      <td>52.599998</td>\n",
       "      <td>115.963147</td>\n",
       "      <td>22.650000</td>\n",
       "      <td>True</td>\n",
       "      <td>1462319999000</td>\n",
       "    </tr>\n",
       "    <tr>\n",
       "      <th>2</th>\n",
       "      <td>1927972279</td>\n",
       "      <td>2016-04-13</td>\n",
       "      <td>133.500000</td>\n",
       "      <td>294.317120</td>\n",
       "      <td>47.540001</td>\n",
       "      <td>False</td>\n",
       "      <td>1460509732000</td>\n",
       "    </tr>\n",
       "    <tr>\n",
       "      <th>3</th>\n",
       "      <td>2873212765</td>\n",
       "      <td>2016-04-21</td>\n",
       "      <td>56.700001</td>\n",
       "      <td>125.002104</td>\n",
       "      <td>21.450001</td>\n",
       "      <td>True</td>\n",
       "      <td>1461283199000</td>\n",
       "    </tr>\n",
       "    <tr>\n",
       "      <th>4</th>\n",
       "      <td>2873212765</td>\n",
       "      <td>2016-05-12</td>\n",
       "      <td>57.299999</td>\n",
       "      <td>126.324875</td>\n",
       "      <td>21.690001</td>\n",
       "      <td>True</td>\n",
       "      <td>1463097599000</td>\n",
       "    </tr>\n",
       "  </tbody>\n",
       "</table>\n",
       "</div>"
      ],
      "text/plain": [
       "           Id        Date    WeightKg  WeightPounds        BMI  \\\n",
       "0  1503960366  2016-05-02   52.599998    115.963147  22.650000   \n",
       "1  1503960366  2016-05-03   52.599998    115.963147  22.650000   \n",
       "2  1927972279  2016-04-13  133.500000    294.317120  47.540001   \n",
       "3  2873212765  2016-04-21   56.700001    125.002104  21.450001   \n",
       "4  2873212765  2016-05-12   57.299999    126.324875  21.690001   \n",
       "\n",
       "   IsManualReport          LogId  \n",
       "0            True  1462233599000  \n",
       "1            True  1462319999000  \n",
       "2           False  1460509732000  \n",
       "3            True  1461283199000  \n",
       "4            True  1463097599000  "
      ]
     },
     "execution_count": 19,
     "metadata": {},
     "output_type": "execute_result"
    }
   ],
   "source": [
    "weight['Date'] = pd.to_datetime(weight['Date'], errors='coerce') \n",
    "weight['Date']=weight['Date'].dt.date\n",
    "weight.head()"
   ]
  },
  {
   "cell_type": "markdown",
   "id": "cdd6a3f0-f041-4495-8c5b-4af35c25ef7a",
   "metadata": {},
   "source": [
    "Explorately Data Analysis (EDA)"
   ]
  },
  {
   "cell_type": "markdown",
   "id": "fe1b32c5-553d-4017-bc15-cb86e7931827",
   "metadata": {},
   "source": [
    "1. What are average no. of daily steps?"
   ]
  },
  {
   "cell_type": "markdown",
   "id": "028fc9d9-b4b7-4dd8-b78a-7d2168deb11f",
   "metadata": {},
   "source": [
    "Reason behind this question:This tells us how active users generally are and whether Bellabeat users are hitting a healthy level of movement.\n",
    "\n"
   ]
  },
  {
   "cell_type": "code",
   "execution_count": 20,
   "id": "c9fbf14c-dd18-40ba-8f7c-fa7c1de661f3",
   "metadata": {},
   "outputs": [
    {
     "data": {
      "text/plain": [
       "count      940.000000\n",
       "mean      7637.910638\n",
       "std       5087.150742\n",
       "min          0.000000\n",
       "25%       3789.750000\n",
       "50%       7405.500000\n",
       "75%      10727.000000\n",
       "max      36019.000000\n",
       "Name: TotalSteps, dtype: float64"
      ]
     },
     "execution_count": 20,
     "metadata": {},
     "output_type": "execute_result"
    }
   ],
   "source": [
    "daily_activity['TotalSteps'].describe()"
   ]
  },
  {
   "cell_type": "code",
   "execution_count": 21,
   "id": "bc15eb1e-6611-4460-a514-8ff26d0bc97c",
   "metadata": {},
   "outputs": [
    {
     "data": {
      "image/png": "[encoded data removed]",
      "text/plain": [
       "<Figure size 1000x600 with 1 Axes>"
      ]
     },
     "metadata": {},
     "output_type": "display_data"
    }
   ],
   "source": [
    "plt.figure(figsize=(10,6))\n",
    "sns.histplot(daily_activity['TotalSteps'], bins=30, kde=True, color='skyblue')\n",
    "plt.axvline(10000, color='red', linestyle='--', label='Recommended 10,000 steps')\n",
    "plt.title('Distribution of Total Daily Steps')\n",
    "plt.xlabel('Total Steps')\n",
    "plt.ylabel('Count of Days')\n",
    "plt.legend()\n",
    "plt.grid(True)\n",
    "plt.show()"
   ]
  },
  {
   "cell_type": "markdown",
   "id": "1ca16946-645e-47bb-a2b0-629e1b9637ca",
   "metadata": {},
   "source": [
    "Average no. of steps are 7638 approximately among count of 940 people"
   ]
  },
  {
   "cell_type": "markdown",
   "id": "e30d029d-d33a-4eb9-a131-d5f7802534f0",
   "metadata": {},
   "source": [
    "2. What % of days had 10,000 or more steps?"
   ]
  },
  {
   "cell_type": "markdown",
   "id": "30e46f21-6cf0-41ad-9e8d-3fa98a86eb84",
   "metadata": {},
   "source": [
    "Reason behind this question: This shows how many days users actually reached the recommended daily goal. It’s valuable for:\n",
    "\n",
    "-Understanding user engagement\n",
    "\n",
    "-Creating fitness challenges\n",
    "\n",
    "-Marketing messages like \"Only 15% of users meet their step goals!\""
   ]
  },
  {
   "cell_type": "code",
   "execution_count": 22,
   "id": "8d3789dd-aa2f-4cbc-9189-8a8b24bfc93c",
   "metadata": {},
   "outputs": [
    {
     "name": "stdout",
     "output_type": "stream",
     "text": [
      "Days with 10,000+ steps: 303 out of 940 days\n",
      "Percentage of days meeting step goal: 32.23%\n"
     ]
    }
   ],
   "source": [
    "# Count of days with 10,000+ steps\n",
    "days_with_10k = daily_activity[daily_activity['TotalSteps'] >= 10000].shape[0]\n",
    "\n",
    "# Total number of records\n",
    "total_days = daily_activity.shape[0]\n",
    "\n",
    "# Percentage calculation\n",
    "percent_10k = (days_with_10k / total_days) * 100\n",
    "\n",
    "print(f\"Days with 10,000+ steps: {days_with_10k} out of {total_days} days\")\n",
    "print(f\"Percentage of days meeting step goal: {percent_10k:.2f}%\")"
   ]
  },
  {
   "cell_type": "markdown",
   "id": "ed0d3057-6f75-458a-8906-694eac2d60f8",
   "metadata": {},
   "source": [
    "Out of 940 days, only 303 days (~32.23%) reached the 10,000 step goal."
   ]
  },
  {
   "cell_type": "markdown",
   "id": "3b576dbf-04af-4bbe-9ff0-10b6e3be866d",
   "metadata": {},
   "source": [
    "3. Do step counts vary by day of the week?"
   ]
  },
  {
   "cell_type": "markdown",
   "id": "19729472-ac71-48e9-9f77-32139f167f8b",
   "metadata": {},
   "source": [
    "Reason behind this question: Bellabeat can learn which days users are more active — are weekends lazy? Are people more active on Mondays after the weekend?\n",
    "\n",
    "This can help Bellabeat:\n",
    "\n",
    "-Tailor motivational messages\n",
    "\n",
    "-Launch weekend step challenges\n",
    "\n",
    "-Understand behavioral patterns"
   ]
  },
  {
   "cell_type": "code",
   "execution_count": 23,
   "id": "277787c6-c1b7-4d79-ab33-9ab56cabed93",
   "metadata": {},
   "outputs": [],
   "source": [
    "# Create day of week column\n",
    "daily_activity['DayofWeek']=daily_activity['ActivityDate'].dt.day_name()\n",
    "\n",
    "# Group by day of week and calculatea verage steps\n",
    "steps_by_day=daily_activity.groupby('DayofWeek')['TotalSteps'].mean()\n",
    "\n",
    "# Reorder the days\n",
    "ordered_days = ['Monday', 'Tuesday', 'Wednesday', 'Thursday', 'Friday', 'Saturday', 'Sunday']\n",
    "steps_by_day = steps_by_day.reindex(ordered_days)"
   ]
  },
  {
   "cell_type": "code",
   "execution_count": 24,
   "id": "c3ce8cc4-3da7-4ec3-ad39-df6e7bd0b5cf",
   "metadata": {},
   "outputs": [
    {
     "name": "stderr",
     "output_type": "stream",
     "text": [
      "C:\\Users\\anavi\\AppData\\Local\\Temp\\ipykernel_18676\\3927268791.py:2: FutureWarning: \n",
      "\n",
      "Passing `palette` without assigning `hue` is deprecated and will be removed in v0.14.0. Assign the `x` variable to `hue` and set `legend=False` for the same effect.\n",
      "\n",
      "  sns.barplot(x=steps_by_day.index, y=steps_by_day.values, palette='viridis')\n"
     ]
    },
    {
     "data": {
      "image/png": "[encoded data removed]",
      "text/plain": [
       "<Figure size 800x400 with 1 Axes>"
      ]
     },
     "metadata": {},
     "output_type": "display_data"
    }
   ],
   "source": [
    "plt.figure(figsize=(8,4))\n",
    "sns.barplot(x=steps_by_day.index, y=steps_by_day.values, palette='viridis')\n",
    "plt.title(\"Average Daily Steps by Day of Week\")\n",
    "plt.ylabel(\"Average Steps\")\n",
    "plt.xlabel(\"Day of Week\")\n",
    "plt.xticks(rotation=45)\n",
    "plt.grid(True)\n",
    "plt.show()"
   ]
  },
  {
   "cell_type": "markdown",
   "id": "f6fe56d8-6d25-41bb-9e7e-aa1a8d0b0c5a",
   "metadata": {},
   "source": [
    "Conclusion: Users are most active on Tuesday and Saturday but least active on Sunday. What can Bellabeat do from this?\n",
    "\n",
    "-Bellabeat can send motivational push notifications on Sundays to boost activity.\n",
    "\n",
    "-Could launch “Step-up Sundays” challenges to improve engagement on low-activity days.\n",
    "\n",
    "-Use Tuesday/Saturday for feature drops, tips, or promotions when users are already active."
   ]
  },
  {
   "cell_type": "markdown",
   "id": "dbe1c7b8-5cb6-4191-89db-8aaaeb46dd39",
   "metadata": {},
   "source": [
    "4. What is the average sleep duration?"
   ]
  },
  {
   "cell_type": "markdown",
   "id": "7739721e-3fe3-4086-8ef8-9ee978c6e8fb",
   "metadata": {},
   "source": [
    "Reason behind this question: This helps Bellabeat-\n",
    "\n",
    "-Understand how much users are sleeping\n",
    "\n",
    "-Correlate sleep with activity or weight\n",
    "\n",
    "-Promote better sleep hygiene through product features"
   ]
  },
  {
   "cell_type": "code",
   "execution_count": 25,
   "id": "8fda0551-58eb-4157-9aac-01833b22ebf0",
   "metadata": {},
   "outputs": [
    {
     "data": {
      "text/plain": [
       "count    410.000000\n",
       "mean     419.173171\n",
       "std      118.635918\n",
       "min       58.000000\n",
       "25%      361.000000\n",
       "50%      432.500000\n",
       "75%      490.000000\n",
       "max      796.000000\n",
       "Name: TotalMinutesAsleep, dtype: float64"
      ]
     },
     "execution_count": 25,
     "metadata": {},
     "output_type": "execute_result"
    }
   ],
   "source": [
    "sleep['TotalMinutesAsleep'].describe()"
   ]
  },
  {
   "cell_type": "code",
   "execution_count": 26,
   "id": "416a38e8-fc5b-4acb-8a35-6e8cd48a8297",
   "metadata": {},
   "outputs": [
    {
     "name": "stdout",
     "output_type": "stream",
     "text": [
      "Average Sleep Duration: 6.99 hours\n"
     ]
    }
   ],
   "source": [
    "sleep['HoursAsleep']=sleep['TotalMinutesAsleep']/60\n",
    "\n",
    "average_sleep=sleep['HoursAsleep'].mean()\n",
    "print(f\"Average Sleep Duration: {average_sleep:.2f} hours\")"
   ]
  },
  {
   "cell_type": "code",
   "execution_count": 27,
   "id": "2b895359-dfb4-47eb-8725-fd1b3dcd64f7",
   "metadata": {},
   "outputs": [
    {
     "data": {
      "image/png": "[encoded data removed]",
      "text/plain": [
       "<Figure size 800x400 with 1 Axes>"
      ]
     },
     "metadata": {},
     "output_type": "display_data"
    }
   ],
   "source": [
    "plt.figure(figsize=(8,4))\n",
    "sns.histplot(sleep['HoursAsleep'], bins=30, color='purple', kde=True)\n",
    "plt.axvline(8, color='red', linestyle='--', label='Recommended 8 hrs')\n",
    "plt.title(\"Distribution of Sleep Duration (Hours)\")\n",
    "plt.xlabel(\"Hours Asleep\")\n",
    "plt.ylabel(\"Number of Days\")\n",
    "plt.legend()\n",
    "plt.grid(True)\n",
    "plt.show()"
   ]
  },
  {
   "cell_type": "markdown",
   "id": "e81df7d1-d10a-4ac6-af8c-1318d894b65a",
   "metadata": {},
   "source": [
    "Conclusion: Average sleep duration is 6.99 hours , which is below the recommended 8 hours of sleep per night. That means user are not getting required sleep on average. Bellabeat can introduce:\n",
    "\n",
    "-Sleep coaching tips\n",
    "\n",
    "-Smart bedtime reminders\n",
    "\n",
    "-Weekly sleep reports"
   ]
  },
  {
   "cell_type": "markdown",
   "id": "6a965760-5da7-45c3-98fd-8dc8ebde3175",
   "metadata": {},
   "source": [
    "5. Is there a relationship between sleep and steps?"
   ]
  },
  {
   "cell_type": "markdown",
   "id": "2282e151-eeca-4897-95e5-3eae5291dd06",
   "metadata": {},
   "source": [
    "Reason behind this question: Do users who sleep more also walk more (or less)?\n",
    "This tells Bellabeat how activity and rest balance out. "
   ]
  },
  {
   "cell_type": "code",
   "execution_count": 28,
   "id": "1c826818-28cf-4417-85ed-cc5bd31d4881",
   "metadata": {},
   "outputs": [],
   "source": [
    "daily_activity['Date'] = daily_activity['ActivityDate'].dt.date\n",
    "sleep['Date'] = sleep['SleepDay'].dt.date"
   ]
  },
  {
   "cell_type": "code",
   "execution_count": 30,
   "id": "dbafe007-a83f-4605-8b38-f8992581c98c",
   "metadata": {},
   "outputs": [],
   "source": [
    "# Merge on Id and Date\n",
    "activity_sleep=pd.merge(daily_activity,sleep,on=['Id','Date'],how='inner')"
   ]
  },
  {
   "cell_type": "code",
   "execution_count": 31,
   "id": "2a85a2f8-8ff2-41d0-a10b-a21b321a2379",
   "metadata": {},
   "outputs": [
    {
     "data": {
      "image/png": "[encoded data removed]",
      "text/plain": [
       "<Figure size 800x400 with 1 Axes>"
      ]
     },
     "metadata": {},
     "output_type": "display_data"
    }
   ],
   "source": [
    "plt.figure(figsize=(8,4))\n",
    "sns.scatterplot(data=activity_sleep,x='TotalMinutesAsleep',y='TotalSteps',color='teal')\n",
    "plt.title(\"Sleep Duration vs. Steps\")\n",
    "plt.xlabel(\"Total Minutes Asleep\")\n",
    "plt.ylabel(\"Total Steps\")\n",
    "plt.grid(True)\n",
    "plt.show()"
   ]
  },
  {
   "cell_type": "code",
   "execution_count": 32,
   "id": "31e993c9-8bef-4c5f-94d1-9aadd655a3ad",
   "metadata": {},
   "outputs": [
    {
     "name": "stdout",
     "output_type": "stream",
     "text": [
      "Correlation between sleep and steps: -0.19\n"
     ]
    }
   ],
   "source": [
    "correlation=activity_sleep['TotalMinutesAsleep'].corr(activity_sleep['TotalSteps'])\n",
    "print(f\"Correlation between sleep and steps: {correlation:.2f}\")"
   ]
  },
  {
   "cell_type": "markdown",
   "id": "b29a0f86-45c0-4dde-a5bf-3b8265a19f2e",
   "metadata": {},
   "source": [
    "Conclusion: Users who walk more may be slightly more active, might sleep a little less. As correlation is weak Bellabeat can:\n",
    "\n",
    "-Encourage balanced routines(enough movement+enough rest)\n",
    "\n",
    "-Offer personalized wellness suggestions (e.g., “You’re active—don’t skip sleep!”)"
   ]
  },
  {
   "cell_type": "markdown",
   "id": "b030cbe4-2c53-464b-a6b0-432b2ab0e6a0",
   "metadata": {},
   "source": [
    "6. What is the average BMI of users?"
   ]
  },
  {
   "cell_type": "code",
   "execution_count": 33,
   "id": "e9298c0d-81fb-46aa-8a24-4e6b9decf696",
   "metadata": {},
   "outputs": [
    {
     "data": {
      "text/plain": [
       "count    67.000000\n",
       "mean     25.185224\n",
       "std       3.066963\n",
       "min      21.450001\n",
       "25%      23.959999\n",
       "50%      24.389999\n",
       "75%      25.559999\n",
       "max      47.540001\n",
       "Name: BMI, dtype: float64"
      ]
     },
     "execution_count": 33,
     "metadata": {},
     "output_type": "execute_result"
    }
   ],
   "source": [
    "weight_clean=weight.dropna(subset=['BMI'])\n",
    "weight_clean['BMI'].describe()"
   ]
  },
  {
   "cell_type": "code",
   "execution_count": 34,
   "id": "a1f10bb6-6e7c-42c1-8825-dbbc6dfde8c3",
   "metadata": {},
   "outputs": [
    {
     "name": "stdout",
     "output_type": "stream",
     "text": [
      "Average BMI: 25.19\n"
     ]
    }
   ],
   "source": [
    "avg_bmi=weight_clean['BMI'].mean()\n",
    "print(f\"Average BMI: {avg_bmi:.2f}\")"
   ]
  },
  {
   "cell_type": "markdown",
   "id": "aa531c5f-b423-4d2e-8b10-c40ae0e7a18e",
   "metadata": {},
   "source": [
    "Conclusion: Average BMI is slightly above healthy range (~18.5-24.9). Bellabeat users could benefit from:\n",
    "\n",
    "-Personalized fitness guidance\n",
    "\n",
    "-Nutrition tracking features\n",
    "\n",
    "-Health coaching prompts"
   ]
  },
  {
   "cell_type": "markdown",
   "id": "e0ec4427-6b55-4051-ac52-59642c278825",
   "metadata": {},
   "source": [
    "7. Do users with higher BMI tend to be less active?"
   ]
  },
  {
   "cell_type": "code",
   "execution_count": 35,
   "id": "65b704b9-505c-42a1-9a80-844bc0185338",
   "metadata": {},
   "outputs": [],
   "source": [
    "# Merge weight with daily_activity\n",
    "activity_weight=pd.merge(daily_activity,weight,on=['Id','Date'],how='inner')"
   ]
  },
  {
   "cell_type": "code",
   "execution_count": 36,
   "id": "868e7869-642a-4706-8baa-d71529507736",
   "metadata": {},
   "outputs": [
    {
     "data": {
      "image/png": "[encoded data removed]",
      "text/plain": [
       "<Figure size 800x400 with 1 Axes>"
      ]
     },
     "metadata": {},
     "output_type": "display_data"
    }
   ],
   "source": [
    "plt.figure(figsize=(8,4))\n",
    "sns.scatterplot(data=activity_weight,x='BMI',y='TotalSteps',color='salmon')\n",
    "plt.title(\"BMI vs Total Steps\")\n",
    "plt.xlabel(\"BMI\")\n",
    "plt.ylabel(\"Total Steps\")\n",
    "plt.grid(True)\n",
    "plt.show()"
   ]
  },
  {
   "cell_type": "code",
   "execution_count": 37,
   "id": "240c7eac-e644-42ba-b3fc-79d0f326abc9",
   "metadata": {},
   "outputs": [
    {
     "name": "stdout",
     "output_type": "stream",
     "text": [
      "Correlation between BMI and steps: -0.16\n"
     ]
    }
   ],
   "source": [
    "correlation=activity_weight['BMI'].corr(activity_weight['TotalSteps'])\n",
    "print(f\"Correlation between BMI and steps: {correlation:.2f}\")"
   ]
  },
  {
   "cell_type": "markdown",
   "id": "3f9aca24-7997-4ae0-9f7f-98a11c18ffc7",
   "metadata": {},
   "source": [
    "Conclusion: Users with higher BMI tend to walk slightly less."
   ]
  },
  {
   "cell_type": "markdown",
   "id": "84839773-738c-43a5-8f58-edfe5251c266",
   "metadata": {},
   "source": [
    "Save the Final merged dataset in order to export to Tableau"
   ]
  },
  {
   "cell_type": "code",
   "execution_count": 38,
   "id": "db22b255-1713-46f8-a3b8-2e55698bec62",
   "metadata": {},
   "outputs": [],
   "source": [
    "full_data=pd.merge(daily_activity,sleep,on=['Id','Date'],how='inner')\n",
    "full_data=pd.merge(full_data,weight,on=['Id','Date'],how='left')"
   ]
  },
  {
   "cell_type": "code",
   "execution_count": 39,
   "id": "e8b364ed-6a7a-4145-a16a-cb6136fe3437",
   "metadata": {},
   "outputs": [],
   "source": [
    "full_data.to_csv(\"bellabeat_final_data.csv\",index=False)"
   ]
  },
  {
   "cell_type": "code",
   "execution_count": null,
   "id": "f5a11416-ceec-48c4-8f41-0ec4a4eee095",
   "metadata": {},
   "outputs": [],
   "source": []
  }
 ],
 "metadata": {
  "kernelspec": {
   "display_name": "Python 3 (ipykernel)",
   "language": "python",
   "name": "python3"
  },
  "language_info": {
   "codemirror_mode": {
    "name": "ipython",
    "version": 3
   },
   "file_extension": ".py",
   "mimetype": "text/x-python",
   "name": "python",
   "nbconvert_exporter": "python",
   "pygments_lexer": "ipython3",
   "version": "3.12.7"
  }
 },
 "nbformat": 4,
 "nbformat_minor": 5
}
